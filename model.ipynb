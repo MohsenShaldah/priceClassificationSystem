{
 "cells": [
  {
   "cell_type": "markdown",
   "metadata": {},
   "source": [
    "Devices Price Classification System using machine learning to predict the prices, allowing the sellers to classify the device's prices according to their characteristics\n",
    "here we drop  the column (id) only because we need all other columns "
   ]
  },
  {
   "cell_type": "code",
   "execution_count": 55,
   "metadata": {},
   "outputs": [
    {
     "name": "stdout",
     "output_type": "stream",
     "text": [
      "       battery_power         blue  clock_speed     dual_sim           fc  \\\n",
      "count    1000.000000  1000.000000  1000.000000  1000.000000  1000.000000   \n",
      "mean     1248.510000     0.516000     1.540900     0.517000     4.593000   \n",
      "std       432.458227     0.499994     0.829268     0.499961     4.463325   \n",
      "min       500.000000     0.000000     0.500000     0.000000     0.000000   \n",
      "25%       895.000000     0.000000     0.700000     0.000000     1.000000   \n",
      "50%      1246.500000     1.000000     1.500000     1.000000     3.000000   \n",
      "75%      1629.250000     1.000000     2.300000     1.000000     7.000000   \n",
      "max      1999.000000     1.000000     3.000000     1.000000    19.000000   \n",
      "\n",
      "            four_g   int_memory        m_dep   mobile_wt      n_cores  \\\n",
      "count  1000.000000  1000.000000  1000.000000  1000.00000  1000.000000   \n",
      "mean      0.487000    33.652000     0.517500   139.51100     4.328000   \n",
      "std       0.500081    18.128694     0.280861    34.85155     2.288155   \n",
      "min       0.000000     2.000000     0.100000    80.00000     1.000000   \n",
      "25%       0.000000    18.000000     0.300000   109.75000     2.000000   \n",
      "50%       0.000000    34.500000     0.500000   139.00000     4.000000   \n",
      "75%       1.000000    49.000000     0.800000   170.00000     6.000000   \n",
      "max       1.000000    64.000000     1.000000   200.00000     8.000000   \n",
      "\n",
      "                pc    px_height     px_width          ram         sc_h  \\\n",
      "count  1000.000000  1000.000000  1000.000000  1000.000000  1000.000000   \n",
      "mean     10.054000   627.121000  1239.774000  2138.998000    11.995000   \n",
      "std       6.095099   432.929699   439.670981  1088.092278     4.320607   \n",
      "min       0.000000     0.000000   501.000000   263.000000     5.000000   \n",
      "25%       5.000000   263.750000   831.750000  1237.250000     8.000000   \n",
      "50%      10.000000   564.500000  1250.000000  2153.500000    12.000000   \n",
      "75%      16.000000   903.000000  1637.750000  3065.500000    16.000000   \n",
      "max      20.000000  1907.000000  1998.000000  3989.000000    19.000000   \n",
      "\n",
      "              sc_w    talk_time      three_g  touch_screen         wifi  \n",
      "count  1000.000000  1000.000000  1000.000000    1000.00000  1000.000000  \n",
      "mean      5.316000    11.085000     0.756000       0.50000     0.507000  \n",
      "std       4.240062     5.497636     0.429708       0.50025     0.500201  \n",
      "min       0.000000     2.000000     0.000000       0.00000     0.000000  \n",
      "25%       2.000000     6.750000     1.000000       0.00000     0.000000  \n",
      "50%       5.000000    11.000000     1.000000       0.50000     1.000000  \n",
      "75%       8.000000    16.000000     1.000000       1.00000     1.000000  \n",
      "max      18.000000    20.000000     1.000000       1.00000     1.000000  \n"
     ]
    }
   ],
   "source": [
    "import pandas as pd\n",
    "import numpy as np \n",
    "from sklearn.tree import DecisionTreeClassifier\n",
    "from sklearn.metrics import confusion_matrix\n",
    "\n",
    "\n",
    "# reading trainning data set and processing \n",
    "train = pd.read_csv(\"train - train.csv\")\n",
    "test = pd.read_csv(\"test - test.csv\")\n",
    "test_data=test.drop(['id'],axis=1)\n",
    "train_data = pd.DataFrame(train)\n",
    "#print(train_data.describe())\n",
    "print(test_data.describe())\n",
    "#replace Null values in dataframe with the average \n",
    "train_data.mean()\n",
    "df=train_data.fillna(train_data.mean())\n",
    "\n",
    "\n",
    "\n",
    "\n"
   ]
  },
  {
   "cell_type": "markdown",
   "metadata": {},
   "source": [
    "data reprocesssing before training model  we  use decission tree classifier to train the model\n",
    "and use accuracy metric to how the accuracy of our model on test data  "
   ]
  },
  {
   "cell_type": "code",
   "execution_count": null,
   "metadata": {},
   "outputs": [],
   "source": [
    "# divide the data to features and lable\n",
    "train_output=df['price_range']\n",
    "train_inputs=df.drop(['price_range'],axis=1)\n",
    "test_output=df['price_range']\n",
    "test_inputs=df.drop(['price_range'],axis=1)\n",
    "dtree_model = DecisionTreeClassifier(max_depth =6 ).fit(train_inputs, train_output)\n",
    "dtree_predictions = dtree_model.predict(test_inputs)\n",
    "# accuracy on test  data \n",
    "accuracy = dtree_model.score(test_inputs, test_output)\n",
    "print('accuracy ', accuracy)\n",
    "\n"
   ]
  },
  {
   "cell_type": "markdown",
   "metadata": {},
   "source": [
    "here we used knn classifier to try to improve the accuracy of model "
   ]
  },
  {
   "cell_type": "code",
   "execution_count": null,
   "metadata": {},
   "outputs": [],
   "source": [
    "#train kNeighbors model \n",
    "from sklearn.neighbors import KNeighborsClassifier \n",
    "knn = KNeighborsClassifier(n_neighbors = 7).fit(train_inputs, train_output) \n",
    "  \n",
    "# accuracy on X_test \n",
    "Knn_accuracy = knn.score(test_inputs, test_output) \n",
    "print ('knn accuracy',Knn_accuracy)  \n",
    "# creating a confusion matrix \n",
    "knn_predictions = knn.predict(test_inputs)  \n",
    "cm = confusion_matrix(test_output, knn_predictions) \n"
   ]
  }
 ],
 "metadata": {
  "kernelspec": {
   "display_name": "Python 3",
   "language": "python",
   "name": "python3"
  },
  "language_info": {
   "codemirror_mode": {
    "name": "ipython",
    "version": 3
   },
   "file_extension": ".py",
   "mimetype": "text/x-python",
   "name": "python",
   "nbconvert_exporter": "python",
   "pygments_lexer": "ipython3",
   "version": "3.12.0"
  }
 },
 "nbformat": 4,
 "nbformat_minor": 2
}
